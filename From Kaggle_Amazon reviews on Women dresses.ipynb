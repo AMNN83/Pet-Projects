{
 "cells": [
  {
   "cell_type": "code",
   "execution_count": 1,
   "id": "bfddfd21",
   "metadata": {},
   "outputs": [],
   "source": [
    "import pandas as pd"
   ]
  },
  {
   "cell_type": "markdown",
   "id": "1441e766",
   "metadata": {},
   "source": [
    "The dataset was taken from here https://www.kaggle.com/datasets/surajjha101/myntra-reviews-on-women-dresses-comprehensive"
   ]
  },
  {
   "cell_type": "markdown",
   "id": "3310efa6",
   "metadata": {},
   "source": [
    "####   Well, let's see what data we have."
   ]
  },
  {
   "cell_type": "code",
   "execution_count": 4,
   "id": "0baada22",
   "metadata": {},
   "outputs": [
    {
     "data": {
      "text/html": [
       "<div>\n",
       "<style scoped>\n",
       "    .dataframe tbody tr th:only-of-type {\n",
       "        vertical-align: middle;\n",
       "    }\n",
       "\n",
       "    .dataframe tbody tr th {\n",
       "        vertical-align: top;\n",
       "    }\n",
       "\n",
       "    .dataframe thead th {\n",
       "        text-align: right;\n",
       "    }\n",
       "</style>\n",
       "<table border=\"1\" class=\"dataframe\">\n",
       "  <thead>\n",
       "    <tr style=\"text-align: right;\">\n",
       "      <th></th>\n",
       "      <th>s.no</th>\n",
       "      <th>age</th>\n",
       "      <th>division_name</th>\n",
       "      <th>department_name</th>\n",
       "      <th>class_name</th>\n",
       "      <th>clothing_id</th>\n",
       "      <th>title</th>\n",
       "      <th>review_text</th>\n",
       "      <th>alike_feedback_count</th>\n",
       "      <th>rating</th>\n",
       "      <th>recommend_index</th>\n",
       "    </tr>\n",
       "  </thead>\n",
       "  <tbody>\n",
       "    <tr>\n",
       "      <th>0</th>\n",
       "      <td>0</td>\n",
       "      <td>40</td>\n",
       "      <td>General</td>\n",
       "      <td>Bottoms</td>\n",
       "      <td>Jeans</td>\n",
       "      <td>1028</td>\n",
       "      <td>Amazing fit and wash</td>\n",
       "      <td>Like other reviewers i was hesitant to spend t...</td>\n",
       "      <td>0</td>\n",
       "      <td>5</td>\n",
       "      <td>1</td>\n",
       "    </tr>\n",
       "    <tr>\n",
       "      <th>1</th>\n",
       "      <td>1</td>\n",
       "      <td>62</td>\n",
       "      <td>General Petite</td>\n",
       "      <td>Tops</td>\n",
       "      <td>Blouses</td>\n",
       "      <td>850</td>\n",
       "      <td>Lovely and unique!</td>\n",
       "      <td>As is true of a bunch of the fall clothing pho...</td>\n",
       "      <td>12</td>\n",
       "      <td>5</td>\n",
       "      <td>1</td>\n",
       "    </tr>\n",
       "    <tr>\n",
       "      <th>2</th>\n",
       "      <td>2</td>\n",
       "      <td>47</td>\n",
       "      <td>General Petite</td>\n",
       "      <td>Bottoms</td>\n",
       "      <td>Skirts</td>\n",
       "      <td>993</td>\n",
       "      <td>Meh</td>\n",
       "      <td>I so wanted this skirt to work, love the desig...</td>\n",
       "      <td>3</td>\n",
       "      <td>1</td>\n",
       "      <td>0</td>\n",
       "    </tr>\n",
       "    <tr>\n",
       "      <th>3</th>\n",
       "      <td>3</td>\n",
       "      <td>45</td>\n",
       "      <td>General Petite</td>\n",
       "      <td>Bottoms</td>\n",
       "      <td>Pants</td>\n",
       "      <td>1068</td>\n",
       "      <td>Wow</td>\n",
       "      <td>Love love this! i was hesitant to buy this at ...</td>\n",
       "      <td>0</td>\n",
       "      <td>5</td>\n",
       "      <td>1</td>\n",
       "    </tr>\n",
       "    <tr>\n",
       "      <th>4</th>\n",
       "      <td>4</td>\n",
       "      <td>37</td>\n",
       "      <td>Initmates</td>\n",
       "      <td>Intimate</td>\n",
       "      <td>Swim</td>\n",
       "      <td>24</td>\n",
       "      <td>Great for bigger busts</td>\n",
       "      <td>I absolutely love the retro look of this swims...</td>\n",
       "      <td>0</td>\n",
       "      <td>5</td>\n",
       "      <td>1</td>\n",
       "    </tr>\n",
       "  </tbody>\n",
       "</table>\n",
       "</div>"
      ],
      "text/plain": [
       "   s.no  age   division_name department_name class_name  clothing_id  \\\n",
       "0     0   40         General         Bottoms      Jeans         1028   \n",
       "1     1   62  General Petite            Tops    Blouses          850   \n",
       "2     2   47  General Petite         Bottoms     Skirts          993   \n",
       "3     3   45  General Petite         Bottoms      Pants         1068   \n",
       "4     4   37       Initmates        Intimate       Swim           24   \n",
       "\n",
       "                    title                                        review_text  \\\n",
       "0    Amazing fit and wash  Like other reviewers i was hesitant to spend t...   \n",
       "1      Lovely and unique!  As is true of a bunch of the fall clothing pho...   \n",
       "2                     Meh  I so wanted this skirt to work, love the desig...   \n",
       "3                     Wow  Love love this! i was hesitant to buy this at ...   \n",
       "4  Great for bigger busts  I absolutely love the retro look of this swims...   \n",
       "\n",
       "   alike_feedback_count  rating  recommend_index   \n",
       "0                     0       5                 1  \n",
       "1                    12       5                 1  \n",
       "2                     3       1                 0  \n",
       "3                     0       5                 1  \n",
       "4                     0       5                 1  "
      ]
     },
     "execution_count": 4,
     "metadata": {},
     "output_type": "execute_result"
    }
   ],
   "source": [
    "pre_df = pd.read_csv('Women Dresses Reviews Dataset .csv')\n",
    "pre_df.head()"
   ]
  },
  {
   "cell_type": "markdown",
   "id": "39f61a50",
   "metadata": {},
   "source": [
    "I haven't studied the tools for working with words yet, so let's leave them aside."
   ]
  },
  {
   "cell_type": "code",
   "execution_count": 5,
   "id": "99583e85",
   "metadata": {},
   "outputs": [
    {
     "data": {
      "text/html": [
       "<div>\n",
       "<style scoped>\n",
       "    .dataframe tbody tr th:only-of-type {\n",
       "        vertical-align: middle;\n",
       "    }\n",
       "\n",
       "    .dataframe tbody tr th {\n",
       "        vertical-align: top;\n",
       "    }\n",
       "\n",
       "    .dataframe thead th {\n",
       "        text-align: right;\n",
       "    }\n",
       "</style>\n",
       "<table border=\"1\" class=\"dataframe\">\n",
       "  <thead>\n",
       "    <tr style=\"text-align: right;\">\n",
       "      <th></th>\n",
       "      <th>age</th>\n",
       "      <th>division_name</th>\n",
       "      <th>department_name</th>\n",
       "      <th>class_name</th>\n",
       "      <th>clothing_id</th>\n",
       "      <th>rating</th>\n",
       "      <th>recommend_index</th>\n",
       "    </tr>\n",
       "    <tr>\n",
       "      <th>s.no</th>\n",
       "      <th></th>\n",
       "      <th></th>\n",
       "      <th></th>\n",
       "      <th></th>\n",
       "      <th></th>\n",
       "      <th></th>\n",
       "      <th></th>\n",
       "    </tr>\n",
       "  </thead>\n",
       "  <tbody>\n",
       "    <tr>\n",
       "      <th>0</th>\n",
       "      <td>40</td>\n",
       "      <td>General</td>\n",
       "      <td>Bottoms</td>\n",
       "      <td>Jeans</td>\n",
       "      <td>1028</td>\n",
       "      <td>5</td>\n",
       "      <td>1</td>\n",
       "    </tr>\n",
       "    <tr>\n",
       "      <th>1</th>\n",
       "      <td>62</td>\n",
       "      <td>General Petite</td>\n",
       "      <td>Tops</td>\n",
       "      <td>Blouses</td>\n",
       "      <td>850</td>\n",
       "      <td>5</td>\n",
       "      <td>1</td>\n",
       "    </tr>\n",
       "    <tr>\n",
       "      <th>2</th>\n",
       "      <td>47</td>\n",
       "      <td>General Petite</td>\n",
       "      <td>Bottoms</td>\n",
       "      <td>Skirts</td>\n",
       "      <td>993</td>\n",
       "      <td>1</td>\n",
       "      <td>0</td>\n",
       "    </tr>\n",
       "    <tr>\n",
       "      <th>3</th>\n",
       "      <td>45</td>\n",
       "      <td>General Petite</td>\n",
       "      <td>Bottoms</td>\n",
       "      <td>Pants</td>\n",
       "      <td>1068</td>\n",
       "      <td>5</td>\n",
       "      <td>1</td>\n",
       "    </tr>\n",
       "    <tr>\n",
       "      <th>4</th>\n",
       "      <td>37</td>\n",
       "      <td>Initmates</td>\n",
       "      <td>Intimate</td>\n",
       "      <td>Swim</td>\n",
       "      <td>24</td>\n",
       "      <td>5</td>\n",
       "      <td>1</td>\n",
       "    </tr>\n",
       "  </tbody>\n",
       "</table>\n",
       "</div>"
      ],
      "text/plain": [
       "      age   division_name department_name class_name  clothing_id  rating  \\\n",
       "s.no                                                                        \n",
       "0      40         General         Bottoms      Jeans         1028       5   \n",
       "1      62  General Petite            Tops    Blouses          850       5   \n",
       "2      47  General Petite         Bottoms     Skirts          993       1   \n",
       "3      45  General Petite         Bottoms      Pants         1068       5   \n",
       "4      37       Initmates        Intimate       Swim           24       5   \n",
       "\n",
       "      recommend_index   \n",
       "s.no                    \n",
       "0                    1  \n",
       "1                    1  \n",
       "2                    0  \n",
       "3                    1  \n",
       "4                    1  "
      ]
     },
     "execution_count": 5,
     "metadata": {},
     "output_type": "execute_result"
    }
   ],
   "source": [
    "df = pre_df.drop(columns = ['title', 'review_text', 'alike_feedback_count'])\n",
    "df.set_index('s.no', inplace = True)\n",
    "df.head()"
   ]
  },
  {
   "cell_type": "code",
   "execution_count": 6,
   "id": "bc7d0d95",
   "metadata": {},
   "outputs": [
    {
     "name": "stdout",
     "output_type": "stream",
     "text": [
      "<class 'pandas.core.frame.DataFrame'>\n",
      "Int64Index: 23486 entries, 0 to 23485\n",
      "Data columns (total 7 columns):\n",
      " #   Column            Non-Null Count  Dtype \n",
      "---  ------            --------------  ----- \n",
      " 0   age               23486 non-null  int64 \n",
      " 1   division_name     23472 non-null  object\n",
      " 2   department_name   23472 non-null  object\n",
      " 3   class_name        23472 non-null  object\n",
      " 4   clothing_id       23486 non-null  int64 \n",
      " 5   rating            23486 non-null  int64 \n",
      " 6   recommend_index   23486 non-null  int64 \n",
      "dtypes: int64(4), object(3)\n",
      "memory usage: 1.4+ MB\n"
     ]
    }
   ],
   "source": [
    "df.info()"
   ]
  },
  {
   "cell_type": "code",
   "execution_count": 7,
   "id": "3d47bb01",
   "metadata": {},
   "outputs": [
    {
     "data": {
      "text/html": [
       "<div>\n",
       "<style scoped>\n",
       "    .dataframe tbody tr th:only-of-type {\n",
       "        vertical-align: middle;\n",
       "    }\n",
       "\n",
       "    .dataframe tbody tr th {\n",
       "        vertical-align: top;\n",
       "    }\n",
       "\n",
       "    .dataframe thead th {\n",
       "        text-align: right;\n",
       "    }\n",
       "</style>\n",
       "<table border=\"1\" class=\"dataframe\">\n",
       "  <thead>\n",
       "    <tr style=\"text-align: right;\">\n",
       "      <th></th>\n",
       "      <th>age</th>\n",
       "      <th>clothing_id</th>\n",
       "      <th>rating</th>\n",
       "      <th>recommend_index</th>\n",
       "    </tr>\n",
       "  </thead>\n",
       "  <tbody>\n",
       "    <tr>\n",
       "      <th>count</th>\n",
       "      <td>23486.000000</td>\n",
       "      <td>23486.000000</td>\n",
       "      <td>23486.000000</td>\n",
       "      <td>23486.000000</td>\n",
       "    </tr>\n",
       "    <tr>\n",
       "      <th>mean</th>\n",
       "      <td>43.198544</td>\n",
       "      <td>918.118709</td>\n",
       "      <td>4.196032</td>\n",
       "      <td>0.822362</td>\n",
       "    </tr>\n",
       "    <tr>\n",
       "      <th>std</th>\n",
       "      <td>12.279544</td>\n",
       "      <td>203.298980</td>\n",
       "      <td>1.110031</td>\n",
       "      <td>0.382216</td>\n",
       "    </tr>\n",
       "    <tr>\n",
       "      <th>min</th>\n",
       "      <td>18.000000</td>\n",
       "      <td>0.000000</td>\n",
       "      <td>1.000000</td>\n",
       "      <td>0.000000</td>\n",
       "    </tr>\n",
       "    <tr>\n",
       "      <th>25%</th>\n",
       "      <td>34.000000</td>\n",
       "      <td>861.000000</td>\n",
       "      <td>4.000000</td>\n",
       "      <td>1.000000</td>\n",
       "    </tr>\n",
       "    <tr>\n",
       "      <th>50%</th>\n",
       "      <td>41.000000</td>\n",
       "      <td>936.000000</td>\n",
       "      <td>5.000000</td>\n",
       "      <td>1.000000</td>\n",
       "    </tr>\n",
       "    <tr>\n",
       "      <th>75%</th>\n",
       "      <td>52.000000</td>\n",
       "      <td>1078.000000</td>\n",
       "      <td>5.000000</td>\n",
       "      <td>1.000000</td>\n",
       "    </tr>\n",
       "    <tr>\n",
       "      <th>max</th>\n",
       "      <td>99.000000</td>\n",
       "      <td>1205.000000</td>\n",
       "      <td>5.000000</td>\n",
       "      <td>1.000000</td>\n",
       "    </tr>\n",
       "  </tbody>\n",
       "</table>\n",
       "</div>"
      ],
      "text/plain": [
       "                age   clothing_id        rating  recommend_index \n",
       "count  23486.000000  23486.000000  23486.000000      23486.000000\n",
       "mean      43.198544    918.118709      4.196032          0.822362\n",
       "std       12.279544    203.298980      1.110031          0.382216\n",
       "min       18.000000      0.000000      1.000000          0.000000\n",
       "25%       34.000000    861.000000      4.000000          1.000000\n",
       "50%       41.000000    936.000000      5.000000          1.000000\n",
       "75%       52.000000   1078.000000      5.000000          1.000000\n",
       "max       99.000000   1205.000000      5.000000          1.000000"
      ]
     },
     "execution_count": 7,
     "metadata": {},
     "output_type": "execute_result"
    }
   ],
   "source": [
    "df.describe()"
   ]
  },
  {
   "cell_type": "markdown",
   "id": "8642f4c2",
   "metadata": {},
   "source": [
    "And here are the first results: the median age of buyers is 41 years, the median rating is 5.0"
   ]
  },
  {
   "cell_type": "markdown",
   "id": "0b889f96",
   "metadata": {},
   "source": [
    "Now let's look at the distribution of ages and rating."
   ]
  },
  {
   "cell_type": "code",
   "execution_count": 8,
   "id": "d2e58d3b",
   "metadata": {},
   "outputs": [],
   "source": [
    "from matplotlib import pyplot as plt"
   ]
  },
  {
   "cell_type": "code",
   "execution_count": 9,
   "id": "a64b85aa",
   "metadata": {},
   "outputs": [
    {
     "data": {
      "text/plain": [
       "(array([1646., 4421., 6575., 4516., 3229., 2215.,  691.,  112.,   68.,\n",
       "          13.]),\n",
       " array([18. , 26.1, 34.2, 42.3, 50.4, 58.5, 66.6, 74.7, 82.8, 90.9, 99. ]),\n",
       " <BarContainer object of 10 artists>)"
      ]
     },
     "execution_count": 9,
     "metadata": {},
     "output_type": "execute_result"
    },
    {
     "data": {
      "image/png": "[encoded data removed]",
      "text/plain": [
       "<Figure size 360x216 with 1 Axes>"
      ]
     },
     "metadata": {
      "needs_background": "light"
     },
     "output_type": "display_data"
    },
    {
     "data": {
      "image/png": "[encoded data removed]",
      "text/plain": [
       "<Figure size 360x216 with 1 Axes>"
      ]
     },
     "metadata": {
      "needs_background": "light"
     },
     "output_type": "display_data"
    }
   ],
   "source": [
    "plt.figure(figsize=(5,3))\n",
    "plt.hist(df['rating'], color = 'tab:blue')\n",
    "plt.figure(figsize=(5,3))\n",
    "plt.hist(df['age'], color = 'tab:olive')"
   ]
  },
  {
   "cell_type": "markdown",
   "id": "f96c126b",
   "metadata": {},
   "source": [
    "We see that the median of ratings is shifted to the right tail, and the distribution of buyers by age is similar to normal. Let's make sure of this."
   ]
  },
  {
   "cell_type": "code",
   "execution_count": 113,
   "id": "fa09aa27",
   "metadata": {},
   "outputs": [],
   "source": [
    "import scipy.stats as stats"
   ]
  },
  {
   "cell_type": "code",
   "execution_count": 115,
   "id": "243a133d",
   "metadata": {},
   "outputs": [
    {
     "data": {
      "text/plain": [
       "(0.9755902290344238, 0.0)"
      ]
     },
     "execution_count": 115,
     "metadata": {},
     "output_type": "execute_result"
    }
   ],
   "source": [
    "w, pvalue = stats.shapiro(df['age'])\n",
    "w, pvalue"
   ]
  },
  {
   "cell_type": "markdown",
   "id": "b6d2c2fc",
   "metadata": {},
   "source": [
    "But... No, p-value tells us that the distribution not looks like normal, we have to reject H0."
   ]
  },
  {
   "cell_type": "markdown",
   "id": "7e6aa2e3",
   "metadata": {},
   "source": [
    " Okay, maybe the rating depends on the age? At first let's look at the distribution of ratings by age."
   ]
  },
  {
   "cell_type": "code",
   "execution_count": 10,
   "id": "b2f74d83",
   "metadata": {},
   "outputs": [
    {
     "data": {
      "image/png": "[encoded data removed]",
      "text/plain": [
       "<Figure size 432x288 with 1 Axes>"
      ]
     },
     "metadata": {
      "needs_background": "light"
     },
     "output_type": "display_data"
    }
   ],
   "source": [
    "plt.scatter(df['age'], df['rating'], color = 'tab:purple', alpha = 0.05)\n",
    "plt.grid()\n",
    "plt.title('Correlation of age and rating')\n",
    "plt.xlabel('Age')\n",
    "plt.ylabel('Rating')\n",
    "# plt.ylim(0, 200)\n",
    "plt.show()"
   ]
  },
  {
   "cell_type": "markdown",
   "id": "a0467459",
   "metadata": {},
   "source": [
    "The distribution of grades looks like middle-aged people (30-50) give more bad grades than people of other ages. But we remember that in our sample these people (30-50 years old) are the most. Probably, the number of bad grades is influenced not by age, but by the number of people in the age group?"
   ]
  },
  {
   "cell_type": "markdown",
   "id": "f8362482",
   "metadata": {},
   "source": [
    "Let's break the buyers into age groups and see how they put ratings. I chose the quartile division. As we learned earlier, the minimum age in the sample is 18 years, the second quartile of 25% is 34 years, the third (median) 50% are 41 years old and the fourth quartile of 75% is 52 years old, and the maximum age is 99 years."
   ]
  },
  {
   "cell_type": "code",
   "execution_count": 11,
   "id": "a7ef41e8",
   "metadata": {},
   "outputs": [],
   "source": [
    "def age_group (x):\n",
    "    if x <= 34:\n",
    "        return '18-34'\n",
    "    elif x <= 41:\n",
    "        return '35-41'\n",
    "    elif x <= 52:\n",
    "        return '42-52'\n",
    "    else:\n",
    "        return '53-99'\n",
    "\n",
    "df['age_group'] = df['age'].apply(age_group)    "
   ]
  },
  {
   "cell_type": "code",
   "execution_count": 12,
   "id": "c071abfe",
   "metadata": {},
   "outputs": [
    {
     "data": {
      "text/html": [
       "<div>\n",
       "<style scoped>\n",
       "    .dataframe tbody tr th:only-of-type {\n",
       "        vertical-align: middle;\n",
       "    }\n",
       "\n",
       "    .dataframe tbody tr th {\n",
       "        vertical-align: top;\n",
       "    }\n",
       "\n",
       "    .dataframe thead th {\n",
       "        text-align: right;\n",
       "    }\n",
       "</style>\n",
       "<table border=\"1\" class=\"dataframe\">\n",
       "  <thead>\n",
       "    <tr style=\"text-align: right;\">\n",
       "      <th></th>\n",
       "      <th>age</th>\n",
       "      <th>division_name</th>\n",
       "      <th>department_name</th>\n",
       "      <th>class_name</th>\n",
       "      <th>clothing_id</th>\n",
       "      <th>rating</th>\n",
       "      <th>recommend_index</th>\n",
       "      <th>age_group</th>\n",
       "    </tr>\n",
       "    <tr>\n",
       "      <th>s.no</th>\n",
       "      <th></th>\n",
       "      <th></th>\n",
       "      <th></th>\n",
       "      <th></th>\n",
       "      <th></th>\n",
       "      <th></th>\n",
       "      <th></th>\n",
       "      <th></th>\n",
       "    </tr>\n",
       "  </thead>\n",
       "  <tbody>\n",
       "    <tr>\n",
       "      <th>0</th>\n",
       "      <td>40</td>\n",
       "      <td>General</td>\n",
       "      <td>Bottoms</td>\n",
       "      <td>Jeans</td>\n",
       "      <td>1028</td>\n",
       "      <td>5</td>\n",
       "      <td>1</td>\n",
       "      <td>35-41</td>\n",
       "    </tr>\n",
       "    <tr>\n",
       "      <th>1</th>\n",
       "      <td>62</td>\n",
       "      <td>General Petite</td>\n",
       "      <td>Tops</td>\n",
       "      <td>Blouses</td>\n",
       "      <td>850</td>\n",
       "      <td>5</td>\n",
       "      <td>1</td>\n",
       "      <td>53-99</td>\n",
       "    </tr>\n",
       "    <tr>\n",
       "      <th>2</th>\n",
       "      <td>47</td>\n",
       "      <td>General Petite</td>\n",
       "      <td>Bottoms</td>\n",
       "      <td>Skirts</td>\n",
       "      <td>993</td>\n",
       "      <td>1</td>\n",
       "      <td>0</td>\n",
       "      <td>42-52</td>\n",
       "    </tr>\n",
       "    <tr>\n",
       "      <th>3</th>\n",
       "      <td>45</td>\n",
       "      <td>General Petite</td>\n",
       "      <td>Bottoms</td>\n",
       "      <td>Pants</td>\n",
       "      <td>1068</td>\n",
       "      <td>5</td>\n",
       "      <td>1</td>\n",
       "      <td>42-52</td>\n",
       "    </tr>\n",
       "    <tr>\n",
       "      <th>4</th>\n",
       "      <td>37</td>\n",
       "      <td>Initmates</td>\n",
       "      <td>Intimate</td>\n",
       "      <td>Swim</td>\n",
       "      <td>24</td>\n",
       "      <td>5</td>\n",
       "      <td>1</td>\n",
       "      <td>35-41</td>\n",
       "    </tr>\n",
       "  </tbody>\n",
       "</table>\n",
       "</div>"
      ],
      "text/plain": [
       "      age   division_name department_name class_name  clothing_id  rating  \\\n",
       "s.no                                                                        \n",
       "0      40         General         Bottoms      Jeans         1028       5   \n",
       "1      62  General Petite            Tops    Blouses          850       5   \n",
       "2      47  General Petite         Bottoms     Skirts          993       1   \n",
       "3      45  General Petite         Bottoms      Pants         1068       5   \n",
       "4      37       Initmates        Intimate       Swim           24       5   \n",
       "\n",
       "      recommend_index  age_group  \n",
       "s.no                              \n",
       "0                    1     35-41  \n",
       "1                    1     53-99  \n",
       "2                    0     42-52  \n",
       "3                    1     42-52  \n",
       "4                    1     35-41  "
      ]
     },
     "execution_count": 12,
     "metadata": {},
     "output_type": "execute_result"
    }
   ],
   "source": [
    "df.head()"
   ]
  },
  {
   "cell_type": "markdown",
   "id": "d314b261",
   "metadata": {},
   "source": [
    "So, we have four age groups: 18-34, 34-41, 42-52, 53-99. Let's see what grades they give."
   ]
  },
  {
   "cell_type": "code",
   "execution_count": 13,
   "id": "842a1f6f",
   "metadata": {},
   "outputs": [
    {
     "data": {
      "image/png": "[encoded data removed]",
      "text/plain": [
       "<Figure size 720x360 with 1 Axes>"
      ]
     },
     "metadata": {
      "needs_background": "light"
     },
     "output_type": "display_data"
    }
   ],
   "source": [
    "import seaborn as sns\n",
    "plt.figure(figsize=(10, 5))\n",
    "plt.title('Distribution of rating by age')\n",
    "plt.grid()\n",
    "sns.boxplot(x='age_group',\n",
    "            y='rating',\n",
    "            data=df, \n",
    "            color='tab:olive')\n",
    "plt.ylabel('Age group')\n",
    "plt.xlabel('Rating')\n",
    "plt.show()"
   ]
  },
  {
   "cell_type": "markdown",
   "id": "e1de8bed",
   "metadata": {},
   "source": [
    "Perhaps nothing unusual, in each age group, the majority gives good grades."
   ]
  },
  {
   "cell_type": "markdown",
   "id": "1fef1b36",
   "metadata": {},
   "source": [
    "But if you look deeper...."
   ]
  },
  {
   "cell_type": "code",
   "execution_count": 118,
   "id": "115e13f6",
   "metadata": {},
   "outputs": [
    {
     "data": {
      "image/png": "[encoded data removed]",
      "text/plain": [
       "<Figure size 1440x360 with 1 Axes>"
      ]
     },
     "metadata": {
      "needs_background": "light"
     },
     "output_type": "display_data"
    }
   ],
   "source": [
    "plt.figure(figsize=(20, 5))\n",
    "plt.title('Distribution of rating by age')\n",
    "plt.grid()\n",
    "sns.boxplot(x='age',\n",
    "            y='rating',\n",
    "            data=df, \n",
    "            color='tab:olive')\n",
    "plt.ylabel('Age')\n",
    "plt.xlabel('Rating')\n",
    "plt.show()"
   ]
  },
  {
   "cell_type": "markdown",
   "id": "dedd2627",
   "metadata": {},
   "source": [
    "Oh, people 28-46 and over 73 seem to be very picky."
   ]
  },
  {
   "cell_type": "code",
   "execution_count": 134,
   "id": "f4144496",
   "metadata": {},
   "outputs": [
    {
     "data": {
      "text/plain": [
       "array([[150.78719141,   0.36571873],\n",
       "       [  0.36571873,   1.2321682 ]])"
      ]
     },
     "execution_count": 134,
     "metadata": {},
     "output_type": "execute_result"
    }
   ],
   "source": [
    "import numpy as np\n",
    "r1 = df['age'].dropna()\n",
    "r2 = df['rating'].dropna()\n",
    "np.cov(r1, r2)"
   ]
  },
  {
   "cell_type": "markdown",
   "id": "9598a35d",
   "metadata": {},
   "source": [
    "And yes, correlation betwen age and ratind exists, it's average."
   ]
  },
  {
   "cell_type": "markdown",
   "id": "ee22959b",
   "metadata": {},
   "source": [
    "Now we can look at purchases, not buyers."
   ]
  },
  {
   "cell_type": "code",
   "execution_count": 14,
   "id": "58faf45e",
   "metadata": {},
   "outputs": [
    {
     "data": {
      "text/html": [
       "<div>\n",
       "<style scoped>\n",
       "    .dataframe tbody tr th:only-of-type {\n",
       "        vertical-align: middle;\n",
       "    }\n",
       "\n",
       "    .dataframe tbody tr th {\n",
       "        vertical-align: top;\n",
       "    }\n",
       "\n",
       "    .dataframe thead th {\n",
       "        text-align: right;\n",
       "    }\n",
       "</style>\n",
       "<table border=\"1\" class=\"dataframe\">\n",
       "  <thead>\n",
       "    <tr style=\"text-align: right;\">\n",
       "      <th></th>\n",
       "      <th>class_name</th>\n",
       "      <th>clothing_id</th>\n",
       "    </tr>\n",
       "  </thead>\n",
       "  <tbody>\n",
       "    <tr>\n",
       "      <th>3</th>\n",
       "      <td>Dresses</td>\n",
       "      <td>6319</td>\n",
       "    </tr>\n",
       "    <tr>\n",
       "      <th>8</th>\n",
       "      <td>Knits</td>\n",
       "      <td>4843</td>\n",
       "    </tr>\n",
       "    <tr>\n",
       "      <th>0</th>\n",
       "      <td>Blouses</td>\n",
       "      <td>3097</td>\n",
       "    </tr>\n",
       "    <tr>\n",
       "      <th>17</th>\n",
       "      <td>Sweaters</td>\n",
       "      <td>1428</td>\n",
       "    </tr>\n",
       "    <tr>\n",
       "      <th>13</th>\n",
       "      <td>Pants</td>\n",
       "      <td>1388</td>\n",
       "    </tr>\n",
       "    <tr>\n",
       "      <th>7</th>\n",
       "      <td>Jeans</td>\n",
       "      <td>1147</td>\n",
       "    </tr>\n",
       "    <tr>\n",
       "      <th>4</th>\n",
       "      <td>Fine gauge</td>\n",
       "      <td>1100</td>\n",
       "    </tr>\n",
       "    <tr>\n",
       "      <th>15</th>\n",
       "      <td>Skirts</td>\n",
       "      <td>945</td>\n",
       "    </tr>\n",
       "    <tr>\n",
       "      <th>6</th>\n",
       "      <td>Jackets</td>\n",
       "      <td>704</td>\n",
       "    </tr>\n",
       "    <tr>\n",
       "      <th>11</th>\n",
       "      <td>Lounge</td>\n",
       "      <td>691</td>\n",
       "    </tr>\n",
       "    <tr>\n",
       "      <th>18</th>\n",
       "      <td>Swim</td>\n",
       "      <td>350</td>\n",
       "    </tr>\n",
       "    <tr>\n",
       "      <th>12</th>\n",
       "      <td>Outerwear</td>\n",
       "      <td>328</td>\n",
       "    </tr>\n",
       "    <tr>\n",
       "      <th>14</th>\n",
       "      <td>Shorts</td>\n",
       "      <td>317</td>\n",
       "    </tr>\n",
       "    <tr>\n",
       "      <th>16</th>\n",
       "      <td>Sleep</td>\n",
       "      <td>228</td>\n",
       "    </tr>\n",
       "    <tr>\n",
       "      <th>10</th>\n",
       "      <td>Legwear</td>\n",
       "      <td>165</td>\n",
       "    </tr>\n",
       "    <tr>\n",
       "      <th>5</th>\n",
       "      <td>Intimates</td>\n",
       "      <td>154</td>\n",
       "    </tr>\n",
       "    <tr>\n",
       "      <th>9</th>\n",
       "      <td>Layering</td>\n",
       "      <td>146</td>\n",
       "    </tr>\n",
       "    <tr>\n",
       "      <th>19</th>\n",
       "      <td>Trend</td>\n",
       "      <td>119</td>\n",
       "    </tr>\n",
       "    <tr>\n",
       "      <th>1</th>\n",
       "      <td>Casual bottoms</td>\n",
       "      <td>2</td>\n",
       "    </tr>\n",
       "    <tr>\n",
       "      <th>2</th>\n",
       "      <td>Chemises</td>\n",
       "      <td>1</td>\n",
       "    </tr>\n",
       "  </tbody>\n",
       "</table>\n",
       "</div>"
      ],
      "text/plain": [
       "        class_name  clothing_id\n",
       "3          Dresses         6319\n",
       "8            Knits         4843\n",
       "0          Blouses         3097\n",
       "17        Sweaters         1428\n",
       "13           Pants         1388\n",
       "7            Jeans         1147\n",
       "4       Fine gauge         1100\n",
       "15          Skirts          945\n",
       "6          Jackets          704\n",
       "11          Lounge          691\n",
       "18            Swim          350\n",
       "12       Outerwear          328\n",
       "14          Shorts          317\n",
       "16           Sleep          228\n",
       "10         Legwear          165\n",
       "5        Intimates          154\n",
       "9         Layering          146\n",
       "19           Trend          119\n",
       "1   Casual bottoms            2\n",
       "2         Chemises            1"
      ]
     },
     "execution_count": 14,
     "metadata": {},
     "output_type": "execute_result"
    }
   ],
   "source": [
    "class_group = df.groupby('class_name')['clothing_id'].count().reset_index().sort_values(by = 'clothing_id', ascending = False)\n",
    "class_group"
   ]
  },
  {
   "cell_type": "markdown",
   "id": "3e318c3a",
   "metadata": {},
   "source": [
    "Dresses are very popular. If you don't like the numbers, purchases can be compared on a histogram."
   ]
  },
  {
   "cell_type": "code",
   "execution_count": 135,
   "id": "93cca8fd",
   "metadata": {},
   "outputs": [
    {
     "data": {
      "text/plain": [
       "(array([4244., 2333., 1778., 5943., 7023., 1008.,  482.,  393.,  265.,\n",
       "          17.]),\n",
       " array([ 0.,  2.,  4.,  6.,  8., 10., 12., 14., 16., 18., 20.]),\n",
       " <BarContainer object of 10 artists>)"
      ]
     },
     "execution_count": 135,
     "metadata": {},
     "output_type": "execute_result"
    },
    {
     "data": {
      "image/png": "[encoded data removed]",
      "text/plain": [
       "<Figure size 720x216 with 1 Axes>"
      ]
     },
     "metadata": {
      "needs_background": "light"
     },
     "output_type": "display_data"
    }
   ],
   "source": [
    "df['class_name'] = df['class_name'].astype(str)\n",
    "plt.figure(figsize=(10,3))\n",
    "plt.grid()\n",
    "plt.xticks(rotation='vertical')\n",
    "plt.hist(df['class_name'], color = 'tab:blue')"
   ]
  },
  {
   "cell_type": "markdown",
   "id": "a257d97b",
   "metadata": {},
   "source": [
    "And how much do customers like them?"
   ]
  },
  {
   "cell_type": "code",
   "execution_count": 16,
   "id": "5ee7b9e7",
   "metadata": {},
   "outputs": [
    {
     "data": {
      "image/png": "[encoded data removed]",
      "text/plain": [
       "<Figure size 1440x360 with 1 Axes>"
      ]
     },
     "metadata": {
      "needs_background": "light"
     },
     "output_type": "display_data"
    }
   ],
   "source": [
    "plt.figure(figsize=(20, 5))\n",
    "plt.title('Distribution of rating by classes')\n",
    "plt.grid()\n",
    "sns.boxplot(x='class_name',\n",
    "            y='rating',\n",
    "            data=df, \n",
    "            color='tab:olive')\n",
    "plt.ylabel('Class name')\n",
    "plt.xlabel('Rating')\n",
    "plt.show()"
   ]
  },
  {
   "cell_type": "markdown",
   "id": "866769f8",
   "metadata": {},
   "source": [
    "It seems that customers like all product groups equally. But something is wrong with Trend. Products from this group are bought a little and put a lot of bad ratings."
   ]
  },
  {
   "cell_type": "markdown",
   "id": "3bc8a44e",
   "metadata": {},
   "source": [
    "We have another indicator of the quality of the purchase - recommend_index. But we can't work with 'index' in here, we'll rename it."
   ]
  },
  {
   "cell_type": "code",
   "execution_count": 19,
   "id": "90174a8c",
   "metadata": {},
   "outputs": [
    {
     "data": {
      "text/html": [
       "<div>\n",
       "<style scoped>\n",
       "    .dataframe tbody tr th:only-of-type {\n",
       "        vertical-align: middle;\n",
       "    }\n",
       "\n",
       "    .dataframe tbody tr th {\n",
       "        vertical-align: top;\n",
       "    }\n",
       "\n",
       "    .dataframe thead th {\n",
       "        text-align: right;\n",
       "    }\n",
       "</style>\n",
       "<table border=\"1\" class=\"dataframe\">\n",
       "  <thead>\n",
       "    <tr style=\"text-align: right;\">\n",
       "      <th></th>\n",
       "      <th>age</th>\n",
       "      <th>division_name</th>\n",
       "      <th>department_name</th>\n",
       "      <th>class_name</th>\n",
       "      <th>clothing_id</th>\n",
       "      <th>rating</th>\n",
       "      <th>recommendation</th>\n",
       "      <th>age_group</th>\n",
       "    </tr>\n",
       "    <tr>\n",
       "      <th>s.no</th>\n",
       "      <th></th>\n",
       "      <th></th>\n",
       "      <th></th>\n",
       "      <th></th>\n",
       "      <th></th>\n",
       "      <th></th>\n",
       "      <th></th>\n",
       "      <th></th>\n",
       "    </tr>\n",
       "  </thead>\n",
       "  <tbody>\n",
       "    <tr>\n",
       "      <th>0</th>\n",
       "      <td>40</td>\n",
       "      <td>General</td>\n",
       "      <td>Bottoms</td>\n",
       "      <td>Jeans</td>\n",
       "      <td>1028</td>\n",
       "      <td>5</td>\n",
       "      <td>1</td>\n",
       "      <td>35-41</td>\n",
       "    </tr>\n",
       "    <tr>\n",
       "      <th>1</th>\n",
       "      <td>62</td>\n",
       "      <td>General Petite</td>\n",
       "      <td>Tops</td>\n",
       "      <td>Blouses</td>\n",
       "      <td>850</td>\n",
       "      <td>5</td>\n",
       "      <td>1</td>\n",
       "      <td>53-99</td>\n",
       "    </tr>\n",
       "    <tr>\n",
       "      <th>2</th>\n",
       "      <td>47</td>\n",
       "      <td>General Petite</td>\n",
       "      <td>Bottoms</td>\n",
       "      <td>Skirts</td>\n",
       "      <td>993</td>\n",
       "      <td>1</td>\n",
       "      <td>0</td>\n",
       "      <td>42-52</td>\n",
       "    </tr>\n",
       "    <tr>\n",
       "      <th>3</th>\n",
       "      <td>45</td>\n",
       "      <td>General Petite</td>\n",
       "      <td>Bottoms</td>\n",
       "      <td>Pants</td>\n",
       "      <td>1068</td>\n",
       "      <td>5</td>\n",
       "      <td>1</td>\n",
       "      <td>42-52</td>\n",
       "    </tr>\n",
       "    <tr>\n",
       "      <th>4</th>\n",
       "      <td>37</td>\n",
       "      <td>Initmates</td>\n",
       "      <td>Intimate</td>\n",
       "      <td>Swim</td>\n",
       "      <td>24</td>\n",
       "      <td>5</td>\n",
       "      <td>1</td>\n",
       "      <td>35-41</td>\n",
       "    </tr>\n",
       "  </tbody>\n",
       "</table>\n",
       "</div>"
      ],
      "text/plain": [
       "      age   division_name department_name class_name  clothing_id  rating  \\\n",
       "s.no                                                                        \n",
       "0      40         General         Bottoms      Jeans         1028       5   \n",
       "1      62  General Petite            Tops    Blouses          850       5   \n",
       "2      47  General Petite         Bottoms     Skirts          993       1   \n",
       "3      45  General Petite         Bottoms      Pants         1068       5   \n",
       "4      37       Initmates        Intimate       Swim           24       5   \n",
       "\n",
       "      recommendation age_group  \n",
       "s.no                            \n",
       "0                  1     35-41  \n",
       "1                  1     53-99  \n",
       "2                  0     42-52  \n",
       "3                  1     42-52  \n",
       "4                  1     35-41  "
      ]
     },
     "execution_count": 19,
     "metadata": {},
     "output_type": "execute_result"
    }
   ],
   "source": [
    "df.columns = ['age', 'division_name', 'department_name', 'class_name', 'clothing_id', 'rating', 'recommendation', 'age_group']\n",
    "df.head()"
   ]
  },
  {
   "cell_type": "markdown",
   "id": "cbc8748a",
   "metadata": {},
   "source": [
    "We can assume that a lot of high ratings means a lot of recommendations. But let's make sure."
   ]
  },
  {
   "cell_type": "code",
   "execution_count": 21,
   "id": "060e6715",
   "metadata": {},
   "outputs": [
    {
     "data": {
      "text/html": [
       "<div>\n",
       "<style scoped>\n",
       "    .dataframe tbody tr th:only-of-type {\n",
       "        vertical-align: middle;\n",
       "    }\n",
       "\n",
       "    .dataframe tbody tr th {\n",
       "        vertical-align: top;\n",
       "    }\n",
       "\n",
       "    .dataframe thead th {\n",
       "        text-align: right;\n",
       "    }\n",
       "</style>\n",
       "<table border=\"1\" class=\"dataframe\">\n",
       "  <thead>\n",
       "    <tr style=\"text-align: right;\">\n",
       "      <th></th>\n",
       "      <th>recommendation</th>\n",
       "      <th>clothing_id</th>\n",
       "    </tr>\n",
       "  </thead>\n",
       "  <tbody>\n",
       "    <tr>\n",
       "      <th>0</th>\n",
       "      <td>0</td>\n",
       "      <td>4172</td>\n",
       "    </tr>\n",
       "    <tr>\n",
       "      <th>1</th>\n",
       "      <td>1</td>\n",
       "      <td>19314</td>\n",
       "    </tr>\n",
       "  </tbody>\n",
       "</table>\n",
       "</div>"
      ],
      "text/plain": [
       "   recommendation  clothing_id\n",
       "0               0         4172\n",
       "1               1        19314"
      ]
     },
     "execution_count": 21,
     "metadata": {},
     "output_type": "execute_result"
    }
   ],
   "source": [
    "recommend_group = df.groupby('recommendation')['clothing_id'].count().reset_index()\n",
    "recommend_group"
   ]
  },
  {
   "cell_type": "markdown",
   "id": "ff2a48b8",
   "metadata": {},
   "source": [
    "Yes, most buyers recommend the purchase to others. Now we can look at the recommendations inside the groups in detail."
   ]
  },
  {
   "cell_type": "code",
   "execution_count": 33,
   "id": "d4f34e8d",
   "metadata": {},
   "outputs": [
    {
     "data": {
      "text/html": [
       "<div>\n",
       "<style scoped>\n",
       "    .dataframe tbody tr th:only-of-type {\n",
       "        vertical-align: middle;\n",
       "    }\n",
       "\n",
       "    .dataframe tbody tr th {\n",
       "        vertical-align: top;\n",
       "    }\n",
       "\n",
       "    .dataframe thead th {\n",
       "        text-align: right;\n",
       "    }\n",
       "</style>\n",
       "<table border=\"1\" class=\"dataframe\">\n",
       "  <thead>\n",
       "    <tr style=\"text-align: right;\">\n",
       "      <th></th>\n",
       "      <th>class_name</th>\n",
       "      <th>count_all</th>\n",
       "      <th>count_r1</th>\n",
       "      <th>count_r0</th>\n",
       "      <th>perc_r1</th>\n",
       "    </tr>\n",
       "  </thead>\n",
       "  <tbody>\n",
       "    <tr>\n",
       "      <th>0</th>\n",
       "      <td>Dresses</td>\n",
       "      <td>6319</td>\n",
       "      <td>5107</td>\n",
       "      <td>1212</td>\n",
       "      <td>80.8</td>\n",
       "    </tr>\n",
       "    <tr>\n",
       "      <th>1</th>\n",
       "      <td>Knits</td>\n",
       "      <td>4843</td>\n",
       "      <td>3960</td>\n",
       "      <td>883</td>\n",
       "      <td>81.8</td>\n",
       "    </tr>\n",
       "    <tr>\n",
       "      <th>2</th>\n",
       "      <td>Blouses</td>\n",
       "      <td>3097</td>\n",
       "      <td>2509</td>\n",
       "      <td>588</td>\n",
       "      <td>81.0</td>\n",
       "    </tr>\n",
       "    <tr>\n",
       "      <th>3</th>\n",
       "      <td>Sweaters</td>\n",
       "      <td>1428</td>\n",
       "      <td>1143</td>\n",
       "      <td>285</td>\n",
       "      <td>80.0</td>\n",
       "    </tr>\n",
       "    <tr>\n",
       "      <th>4</th>\n",
       "      <td>Pants</td>\n",
       "      <td>1388</td>\n",
       "      <td>1156</td>\n",
       "      <td>232</td>\n",
       "      <td>83.3</td>\n",
       "    </tr>\n",
       "    <tr>\n",
       "      <th>5</th>\n",
       "      <td>Jeans</td>\n",
       "      <td>1147</td>\n",
       "      <td>1011</td>\n",
       "      <td>136</td>\n",
       "      <td>88.1</td>\n",
       "    </tr>\n",
       "    <tr>\n",
       "      <th>6</th>\n",
       "      <td>Fine gauge</td>\n",
       "      <td>1100</td>\n",
       "      <td>921</td>\n",
       "      <td>179</td>\n",
       "      <td>83.7</td>\n",
       "    </tr>\n",
       "    <tr>\n",
       "      <th>7</th>\n",
       "      <td>Skirts</td>\n",
       "      <td>945</td>\n",
       "      <td>799</td>\n",
       "      <td>146</td>\n",
       "      <td>84.6</td>\n",
       "    </tr>\n",
       "    <tr>\n",
       "      <th>8</th>\n",
       "      <td>Jackets</td>\n",
       "      <td>704</td>\n",
       "      <td>595</td>\n",
       "      <td>109</td>\n",
       "      <td>84.5</td>\n",
       "    </tr>\n",
       "    <tr>\n",
       "      <th>9</th>\n",
       "      <td>Lounge</td>\n",
       "      <td>691</td>\n",
       "      <td>594</td>\n",
       "      <td>97</td>\n",
       "      <td>86.0</td>\n",
       "    </tr>\n",
       "    <tr>\n",
       "      <th>10</th>\n",
       "      <td>Swim</td>\n",
       "      <td>350</td>\n",
       "      <td>282</td>\n",
       "      <td>68</td>\n",
       "      <td>80.6</td>\n",
       "    </tr>\n",
       "    <tr>\n",
       "      <th>11</th>\n",
       "      <td>Outerwear</td>\n",
       "      <td>328</td>\n",
       "      <td>268</td>\n",
       "      <td>60</td>\n",
       "      <td>81.7</td>\n",
       "    </tr>\n",
       "    <tr>\n",
       "      <th>12</th>\n",
       "      <td>Shorts</td>\n",
       "      <td>317</td>\n",
       "      <td>266</td>\n",
       "      <td>51</td>\n",
       "      <td>83.9</td>\n",
       "    </tr>\n",
       "    <tr>\n",
       "      <th>13</th>\n",
       "      <td>Sleep</td>\n",
       "      <td>228</td>\n",
       "      <td>195</td>\n",
       "      <td>33</td>\n",
       "      <td>85.5</td>\n",
       "    </tr>\n",
       "    <tr>\n",
       "      <th>14</th>\n",
       "      <td>Legwear</td>\n",
       "      <td>165</td>\n",
       "      <td>142</td>\n",
       "      <td>23</td>\n",
       "      <td>86.1</td>\n",
       "    </tr>\n",
       "    <tr>\n",
       "      <th>15</th>\n",
       "      <td>Intimates</td>\n",
       "      <td>154</td>\n",
       "      <td>132</td>\n",
       "      <td>22</td>\n",
       "      <td>85.7</td>\n",
       "    </tr>\n",
       "    <tr>\n",
       "      <th>16</th>\n",
       "      <td>Layering</td>\n",
       "      <td>146</td>\n",
       "      <td>129</td>\n",
       "      <td>17</td>\n",
       "      <td>88.4</td>\n",
       "    </tr>\n",
       "    <tr>\n",
       "      <th>17</th>\n",
       "      <td>Trend</td>\n",
       "      <td>119</td>\n",
       "      <td>88</td>\n",
       "      <td>31</td>\n",
       "      <td>73.9</td>\n",
       "    </tr>\n",
       "    <tr>\n",
       "      <th>18</th>\n",
       "      <td>nan</td>\n",
       "      <td>14</td>\n",
       "      <td>14</td>\n",
       "      <td>0</td>\n",
       "      <td>100.0</td>\n",
       "    </tr>\n",
       "    <tr>\n",
       "      <th>19</th>\n",
       "      <td>Casual bottoms</td>\n",
       "      <td>2</td>\n",
       "      <td>2</td>\n",
       "      <td>0</td>\n",
       "      <td>100.0</td>\n",
       "    </tr>\n",
       "    <tr>\n",
       "      <th>20</th>\n",
       "      <td>Chemises</td>\n",
       "      <td>1</td>\n",
       "      <td>1</td>\n",
       "      <td>0</td>\n",
       "      <td>100.0</td>\n",
       "    </tr>\n",
       "  </tbody>\n",
       "</table>\n",
       "</div>"
      ],
      "text/plain": [
       "        class_name  count_all  count_r1  count_r0  perc_r1\n",
       "0          Dresses       6319      5107      1212     80.8\n",
       "1            Knits       4843      3960       883     81.8\n",
       "2          Blouses       3097      2509       588     81.0\n",
       "3         Sweaters       1428      1143       285     80.0\n",
       "4            Pants       1388      1156       232     83.3\n",
       "5            Jeans       1147      1011       136     88.1\n",
       "6       Fine gauge       1100       921       179     83.7\n",
       "7           Skirts        945       799       146     84.6\n",
       "8          Jackets        704       595       109     84.5\n",
       "9           Lounge        691       594        97     86.0\n",
       "10            Swim        350       282        68     80.6\n",
       "11       Outerwear        328       268        60     81.7\n",
       "12          Shorts        317       266        51     83.9\n",
       "13           Sleep        228       195        33     85.5\n",
       "14         Legwear        165       142        23     86.1\n",
       "15       Intimates        154       132        22     85.7\n",
       "16        Layering        146       129        17     88.4\n",
       "17           Trend        119        88        31     73.9\n",
       "18             nan         14        14         0    100.0\n",
       "19  Casual bottoms          2         2         0    100.0\n",
       "20        Chemises          1         1         0    100.0"
      ]
     },
     "execution_count": 33,
     "metadata": {},
     "output_type": "execute_result"
    }
   ],
   "source": [
    "recommend_group_ratio = df.groupby('class_name')['recommendation'].count().reset_index().sort_values(by = 'recommendation', ascending = False)\n",
    "recommend_group_ratio_r1 = df.groupby('class_name')['recommendation'].sum().reset_index()\n",
    "recommend_ratio = recommend_group_ratio.merge(recommend_group_ratio_r1, on = 'class_name')\n",
    "recommend_ratio.columns = ['class_name', 'count_all', 'count_r1']\n",
    "recommend_ratio['count_r0'] = recommend_ratio['count_all'] - recommend_ratio['count_r1']\n",
    "recommend_ratio['perc_r1'] = round(recommend_ratio['count_r1']*100/recommend_ratio['count_all'], 1)\n",
    "recommend_ratio"
   ]
  },
  {
   "cell_type": "code",
   "execution_count": 133,
   "id": "63216519",
   "metadata": {
    "scrolled": true
   },
   "outputs": [
    {
     "data": {
      "text/html": [
       "<div>\n",
       "<style scoped>\n",
       "    .dataframe tbody tr th:only-of-type {\n",
       "        vertical-align: middle;\n",
       "    }\n",
       "\n",
       "    .dataframe tbody tr th {\n",
       "        vertical-align: top;\n",
       "    }\n",
       "\n",
       "    .dataframe thead th {\n",
       "        text-align: right;\n",
       "    }\n",
       "</style>\n",
       "<table border=\"1\" class=\"dataframe\">\n",
       "  <thead>\n",
       "    <tr style=\"text-align: right;\">\n",
       "      <th></th>\n",
       "      <th>count_all</th>\n",
       "      <th>count_r1</th>\n",
       "      <th>count_r0</th>\n",
       "      <th>perc_r1</th>\n",
       "    </tr>\n",
       "  </thead>\n",
       "  <tbody>\n",
       "    <tr>\n",
       "      <th>count</th>\n",
       "      <td>21.000000</td>\n",
       "      <td>21.000000</td>\n",
       "      <td>21.000000</td>\n",
       "      <td>21.000000</td>\n",
       "    </tr>\n",
       "    <tr>\n",
       "      <th>mean</th>\n",
       "      <td>1118.380952</td>\n",
       "      <td>919.714286</td>\n",
       "      <td>198.666667</td>\n",
       "      <td>85.695238</td>\n",
       "    </tr>\n",
       "    <tr>\n",
       "      <th>std</th>\n",
       "      <td>1666.375692</td>\n",
       "      <td>1350.471775</td>\n",
       "      <td>316.852384</td>\n",
       "      <td>6.773144</td>\n",
       "    </tr>\n",
       "    <tr>\n",
       "      <th>min</th>\n",
       "      <td>1.000000</td>\n",
       "      <td>1.000000</td>\n",
       "      <td>0.000000</td>\n",
       "      <td>73.900000</td>\n",
       "    </tr>\n",
       "    <tr>\n",
       "      <th>25%</th>\n",
       "      <td>154.000000</td>\n",
       "      <td>132.000000</td>\n",
       "      <td>23.000000</td>\n",
       "      <td>81.700000</td>\n",
       "    </tr>\n",
       "    <tr>\n",
       "      <th>50%</th>\n",
       "      <td>350.000000</td>\n",
       "      <td>282.000000</td>\n",
       "      <td>68.000000</td>\n",
       "      <td>84.500000</td>\n",
       "    </tr>\n",
       "    <tr>\n",
       "      <th>75%</th>\n",
       "      <td>1147.000000</td>\n",
       "      <td>1011.000000</td>\n",
       "      <td>179.000000</td>\n",
       "      <td>86.100000</td>\n",
       "    </tr>\n",
       "    <tr>\n",
       "      <th>max</th>\n",
       "      <td>6319.000000</td>\n",
       "      <td>5107.000000</td>\n",
       "      <td>1212.000000</td>\n",
       "      <td>100.000000</td>\n",
       "    </tr>\n",
       "  </tbody>\n",
       "</table>\n",
       "</div>"
      ],
      "text/plain": [
       "         count_all     count_r1     count_r0     perc_r1\n",
       "count    21.000000    21.000000    21.000000   21.000000\n",
       "mean   1118.380952   919.714286   198.666667   85.695238\n",
       "std    1666.375692  1350.471775   316.852384    6.773144\n",
       "min       1.000000     1.000000     0.000000   73.900000\n",
       "25%     154.000000   132.000000    23.000000   81.700000\n",
       "50%     350.000000   282.000000    68.000000   84.500000\n",
       "75%    1147.000000  1011.000000   179.000000   86.100000\n",
       "max    6319.000000  5107.000000  1212.000000  100.000000"
      ]
     },
     "execution_count": 133,
     "metadata": {},
     "output_type": "execute_result"
    }
   ],
   "source": [
    "recommend_ratio.describe()"
   ]
  },
  {
   "cell_type": "markdown",
   "id": "07353a97",
   "metadata": {},
   "source": [
    "We see that on average about 85% of buyers recommend buying. And we expect to see that Trend are out of the general."
   ]
  },
  {
   "cell_type": "markdown",
   "id": "f9eb62f4",
   "metadata": {},
   "source": [
    "We can display ratio of recommendations and non-recommendations in classes on a histogram."
   ]
  },
  {
   "cell_type": "code",
   "execution_count": 72,
   "id": "d816863e",
   "metadata": {},
   "outputs": [
    {
     "data": {
      "image/png": "[encoded data removed]",
      "text/plain": [
       "<Figure size 720x360 with 1 Axes>"
      ]
     },
     "metadata": {
      "needs_background": "light"
     },
     "output_type": "display_data"
    }
   ],
   "source": [
    "plt.figure(figsize=(10,5))\n",
    "plt.title('Recommend and Non-recommend in classes')\n",
    "plot = sns.histplot(data=df, x=\"class_name\", hue=\"recommendation\")\n",
    "plot.tick_params(axis='x', rotation=90)\n",
    "plt.grid(axis = 'y')\n",
    "plt.show()"
   ]
  },
  {
   "cell_type": "markdown",
   "id": "e73c013e",
   "metadata": {},
   "source": [
    "On scatter plot we can display Correlation of Count of purchase and percentage of recommend in classes."
   ]
  },
  {
   "cell_type": "code",
   "execution_count": 73,
   "id": "0a0a4fe7",
   "metadata": {},
   "outputs": [
    {
     "data": {
      "image/png": "[encoded data removed]",
      "text/plain": [
       "<Figure size 432x288 with 1 Axes>"
      ]
     },
     "metadata": {
      "needs_background": "light"
     },
     "output_type": "display_data"
    }
   ],
   "source": [
    "plt.scatter(recommend_ratio['count_all'], recommend_ratio['perc_r1'], color = 'tab:purple', alpha = 0.5)\n",
    "plt.grid()\n",
    "plt.title('Correlation of Count of purchase and percentage of recommend')\n",
    "plt.xlabel('Count of purchase')\n",
    "plt.ylabel('Percentage of recommend')\n",
    "plt.show()"
   ]
  },
  {
   "cell_type": "markdown",
   "id": "e24c1df0",
   "metadata": {},
   "source": [
    "As we can see, the more purchases there are in groups, the more the percentage of recommendations becomes the same."
   ]
  },
  {
   "cell_type": "markdown",
   "id": "a459c45a",
   "metadata": {},
   "source": [
    "Let's look at the sales of the divisions."
   ]
  },
  {
   "cell_type": "code",
   "execution_count": 137,
   "id": "6b2815e4",
   "metadata": {},
   "outputs": [
    {
     "data": {
      "text/html": [
       "<div>\n",
       "<style scoped>\n",
       "    .dataframe tbody tr th:only-of-type {\n",
       "        vertical-align: middle;\n",
       "    }\n",
       "\n",
       "    .dataframe tbody tr th {\n",
       "        vertical-align: top;\n",
       "    }\n",
       "\n",
       "    .dataframe thead th {\n",
       "        text-align: right;\n",
       "    }\n",
       "</style>\n",
       "<table border=\"1\" class=\"dataframe\">\n",
       "  <thead>\n",
       "    <tr style=\"text-align: right;\">\n",
       "      <th></th>\n",
       "      <th>index</th>\n",
       "      <th>division_name</th>\n",
       "    </tr>\n",
       "  </thead>\n",
       "  <tbody>\n",
       "    <tr>\n",
       "      <th>0</th>\n",
       "      <td>General</td>\n",
       "      <td>13850</td>\n",
       "    </tr>\n",
       "    <tr>\n",
       "      <th>1</th>\n",
       "      <td>General Petite</td>\n",
       "      <td>8120</td>\n",
       "    </tr>\n",
       "    <tr>\n",
       "      <th>2</th>\n",
       "      <td>Initmates</td>\n",
       "      <td>1502</td>\n",
       "    </tr>\n",
       "  </tbody>\n",
       "</table>\n",
       "</div>"
      ],
      "text/plain": [
       "            index  division_name\n",
       "0         General          13850\n",
       "1  General Petite           8120\n",
       "2       Initmates           1502"
      ]
     },
     "execution_count": 137,
     "metadata": {},
     "output_type": "execute_result"
    }
   ],
   "source": [
    "df['division_name'].value_counts().reset_index()"
   ]
  },
  {
   "cell_type": "markdown",
   "id": "935fc132",
   "metadata": {},
   "source": [
    "And their ratings."
   ]
  },
  {
   "cell_type": "code",
   "execution_count": 78,
   "id": "140e8f43",
   "metadata": {},
   "outputs": [
    {
     "data": {
      "text/html": [
       "<div>\n",
       "<style scoped>\n",
       "    .dataframe tbody tr th:only-of-type {\n",
       "        vertical-align: middle;\n",
       "    }\n",
       "\n",
       "    .dataframe tbody tr th {\n",
       "        vertical-align: top;\n",
       "    }\n",
       "\n",
       "    .dataframe thead th {\n",
       "        text-align: right;\n",
       "    }\n",
       "</style>\n",
       "<table border=\"1\" class=\"dataframe\">\n",
       "  <thead>\n",
       "    <tr style=\"text-align: right;\">\n",
       "      <th></th>\n",
       "      <th>division_name</th>\n",
       "      <th>rating</th>\n",
       "    </tr>\n",
       "  </thead>\n",
       "  <tbody>\n",
       "    <tr>\n",
       "      <th>2</th>\n",
       "      <td>Initmates</td>\n",
       "      <td>4.286285</td>\n",
       "    </tr>\n",
       "    <tr>\n",
       "      <th>1</th>\n",
       "      <td>General Petite</td>\n",
       "      <td>4.211084</td>\n",
       "    </tr>\n",
       "    <tr>\n",
       "      <th>0</th>\n",
       "      <td>General</td>\n",
       "      <td>4.176606</td>\n",
       "    </tr>\n",
       "  </tbody>\n",
       "</table>\n",
       "</div>"
      ],
      "text/plain": [
       "    division_name    rating\n",
       "2       Initmates  4.286285\n",
       "1  General Petite  4.211084\n",
       "0         General  4.176606"
      ]
     },
     "execution_count": 78,
     "metadata": {},
     "output_type": "execute_result"
    }
   ],
   "source": [
    "df.groupby('division_name')['rating'].mean().reset_index().sort_values(by = 'rating', ascending = False)"
   ]
  },
  {
   "cell_type": "markdown",
   "id": "b4ea91d2",
   "metadata": {},
   "source": [
    "Now let's look at the sales of the departments."
   ]
  },
  {
   "cell_type": "code",
   "execution_count": 141,
   "id": "f5904826",
   "metadata": {},
   "outputs": [
    {
     "data": {
      "text/html": [
       "<div>\n",
       "<style scoped>\n",
       "    .dataframe tbody tr th:only-of-type {\n",
       "        vertical-align: middle;\n",
       "    }\n",
       "\n",
       "    .dataframe tbody tr th {\n",
       "        vertical-align: top;\n",
       "    }\n",
       "\n",
       "    .dataframe thead th {\n",
       "        text-align: right;\n",
       "    }\n",
       "</style>\n",
       "<table border=\"1\" class=\"dataframe\">\n",
       "  <thead>\n",
       "    <tr style=\"text-align: right;\">\n",
       "      <th></th>\n",
       "      <th>index</th>\n",
       "      <th>department_name</th>\n",
       "    </tr>\n",
       "  </thead>\n",
       "  <tbody>\n",
       "    <tr>\n",
       "      <th>0</th>\n",
       "      <td>Tops</td>\n",
       "      <td>10468</td>\n",
       "    </tr>\n",
       "    <tr>\n",
       "      <th>1</th>\n",
       "      <td>Dresses</td>\n",
       "      <td>6319</td>\n",
       "    </tr>\n",
       "    <tr>\n",
       "      <th>2</th>\n",
       "      <td>Bottoms</td>\n",
       "      <td>3799</td>\n",
       "    </tr>\n",
       "    <tr>\n",
       "      <th>3</th>\n",
       "      <td>Intimate</td>\n",
       "      <td>1735</td>\n",
       "    </tr>\n",
       "    <tr>\n",
       "      <th>4</th>\n",
       "      <td>Jackets</td>\n",
       "      <td>1032</td>\n",
       "    </tr>\n",
       "    <tr>\n",
       "      <th>5</th>\n",
       "      <td>Trend</td>\n",
       "      <td>119</td>\n",
       "    </tr>\n",
       "  </tbody>\n",
       "</table>\n",
       "</div>"
      ],
      "text/plain": [
       "      index  department_name\n",
       "0      Tops            10468\n",
       "1   Dresses             6319\n",
       "2   Bottoms             3799\n",
       "3  Intimate             1735\n",
       "4   Jackets             1032\n",
       "5     Trend              119"
      ]
     },
     "execution_count": 141,
     "metadata": {},
     "output_type": "execute_result"
    }
   ],
   "source": [
    "df['department_name'].value_counts().reset_index()"
   ]
  },
  {
   "cell_type": "code",
   "execution_count": 79,
   "id": "fb47059f",
   "metadata": {},
   "outputs": [
    {
     "data": {
      "text/html": [
       "<div>\n",
       "<style scoped>\n",
       "    .dataframe tbody tr th:only-of-type {\n",
       "        vertical-align: middle;\n",
       "    }\n",
       "\n",
       "    .dataframe tbody tr th {\n",
       "        vertical-align: top;\n",
       "    }\n",
       "\n",
       "    .dataframe thead th {\n",
       "        text-align: right;\n",
       "    }\n",
       "</style>\n",
       "<table border=\"1\" class=\"dataframe\">\n",
       "  <thead>\n",
       "    <tr style=\"text-align: right;\">\n",
       "      <th></th>\n",
       "      <th>department_name</th>\n",
       "      <th>rating</th>\n",
       "    </tr>\n",
       "  </thead>\n",
       "  <tbody>\n",
       "    <tr>\n",
       "      <th>0</th>\n",
       "      <td>Bottoms</td>\n",
       "      <td>4.288760</td>\n",
       "    </tr>\n",
       "    <tr>\n",
       "      <th>2</th>\n",
       "      <td>Intimate</td>\n",
       "      <td>4.280115</td>\n",
       "    </tr>\n",
       "    <tr>\n",
       "      <th>3</th>\n",
       "      <td>Jackets</td>\n",
       "      <td>4.264535</td>\n",
       "    </tr>\n",
       "    <tr>\n",
       "      <th>4</th>\n",
       "      <td>Tops</td>\n",
       "      <td>4.172239</td>\n",
       "    </tr>\n",
       "    <tr>\n",
       "      <th>1</th>\n",
       "      <td>Dresses</td>\n",
       "      <td>4.150815</td>\n",
       "    </tr>\n",
       "    <tr>\n",
       "      <th>5</th>\n",
       "      <td>Trend</td>\n",
       "      <td>3.815126</td>\n",
       "    </tr>\n",
       "  </tbody>\n",
       "</table>\n",
       "</div>"
      ],
      "text/plain": [
       "  department_name    rating\n",
       "0         Bottoms  4.288760\n",
       "2        Intimate  4.280115\n",
       "3         Jackets  4.264535\n",
       "4            Tops  4.172239\n",
       "1         Dresses  4.150815\n",
       "5           Trend  3.815126"
      ]
     },
     "execution_count": 79,
     "metadata": {},
     "output_type": "execute_result"
    }
   ],
   "source": [
    "df.groupby('department_name')['rating'].mean().reset_index().sort_values(by = 'rating', ascending = False)"
   ]
  },
  {
   "cell_type": "markdown",
   "id": "a45d8631",
   "metadata": {},
   "source": [
    "Also We can  get a list of clothing_id with different ratings and popularity."
   ]
  },
  {
   "cell_type": "code",
   "execution_count": 104,
   "id": "66001478",
   "metadata": {},
   "outputs": [
    {
     "data": {
      "text/plain": [
       "rating\n",
       "1    [993, 877, 870, 1094, 1077, 878, 1094, 1054, 8...\n",
       "2    [1020, 884, 850, 820, 995, 1022, 877, 860, 865...\n",
       "3    [1086, 939, 835, 1078, 879, 838, 1116, 930, 86...\n",
       "4    [933, 873, 1078, 1053, 1058, 939, 1094, 831, 8...\n",
       "5    [1028, 850, 1068, 24, 937, 868, 900, 873, 872,...\n",
       "Name: clothing_id, dtype: object"
      ]
     },
     "execution_count": 104,
     "metadata": {},
     "output_type": "execute_result"
    }
   ],
   "source": [
    "df.groupby('rating')['clothing_id'].apply(list)"
   ]
  },
  {
   "cell_type": "code",
   "execution_count": 142,
   "id": "3f6afa75",
   "metadata": {},
   "outputs": [
    {
     "data": {
      "text/html": [
       "<div>\n",
       "<style scoped>\n",
       "    .dataframe tbody tr th:only-of-type {\n",
       "        vertical-align: middle;\n",
       "    }\n",
       "\n",
       "    .dataframe tbody tr th {\n",
       "        vertical-align: top;\n",
       "    }\n",
       "\n",
       "    .dataframe thead th {\n",
       "        text-align: right;\n",
       "    }\n",
       "</style>\n",
       "<table border=\"1\" class=\"dataframe\">\n",
       "  <thead>\n",
       "    <tr style=\"text-align: right;\">\n",
       "      <th></th>\n",
       "      <th>index</th>\n",
       "      <th>clothing_id</th>\n",
       "    </tr>\n",
       "  </thead>\n",
       "  <tbody>\n",
       "    <tr>\n",
       "      <th>0</th>\n",
       "      <td>1078</td>\n",
       "      <td>1024</td>\n",
       "    </tr>\n",
       "    <tr>\n",
       "      <th>1</th>\n",
       "      <td>862</td>\n",
       "      <td>806</td>\n",
       "    </tr>\n",
       "    <tr>\n",
       "      <th>2</th>\n",
       "      <td>1094</td>\n",
       "      <td>756</td>\n",
       "    </tr>\n",
       "    <tr>\n",
       "      <th>3</th>\n",
       "      <td>1081</td>\n",
       "      <td>582</td>\n",
       "    </tr>\n",
       "    <tr>\n",
       "      <th>4</th>\n",
       "      <td>872</td>\n",
       "      <td>545</td>\n",
       "    </tr>\n",
       "    <tr>\n",
       "      <th>...</th>\n",
       "      <td>...</td>\n",
       "      <td>...</td>\n",
       "    </tr>\n",
       "    <tr>\n",
       "      <th>1201</th>\n",
       "      <td>648</td>\n",
       "      <td>1</td>\n",
       "    </tr>\n",
       "    <tr>\n",
       "      <th>1202</th>\n",
       "      <td>1029</td>\n",
       "      <td>1</td>\n",
       "    </tr>\n",
       "    <tr>\n",
       "      <th>1203</th>\n",
       "      <td>657</td>\n",
       "      <td>1</td>\n",
       "    </tr>\n",
       "    <tr>\n",
       "      <th>1204</th>\n",
       "      <td>354</td>\n",
       "      <td>1</td>\n",
       "    </tr>\n",
       "    <tr>\n",
       "      <th>1205</th>\n",
       "      <td>222</td>\n",
       "      <td>1</td>\n",
       "    </tr>\n",
       "  </tbody>\n",
       "</table>\n",
       "<p>1206 rows × 2 columns</p>\n",
       "</div>"
      ],
      "text/plain": [
       "      index  clothing_id\n",
       "0      1078         1024\n",
       "1       862          806\n",
       "2      1094          756\n",
       "3      1081          582\n",
       "4       872          545\n",
       "...     ...          ...\n",
       "1201    648            1\n",
       "1202   1029            1\n",
       "1203    657            1\n",
       "1204    354            1\n",
       "1205    222            1\n",
       "\n",
       "[1206 rows x 2 columns]"
      ]
     },
     "execution_count": 142,
     "metadata": {},
     "output_type": "execute_result"
    }
   ],
   "source": [
    "df['clothing_id'].value_counts().reset_index()"
   ]
  },
  {
   "cell_type": "markdown",
   "id": "b1c46dd3",
   "metadata": {},
   "source": [
    "Let's see how many clothes are bought by different age groups."
   ]
  },
  {
   "cell_type": "code",
   "execution_count": 86,
   "id": "bf078e3e",
   "metadata": {},
   "outputs": [
    {
     "data": {
      "text/html": [
       "<div>\n",
       "<style scoped>\n",
       "    .dataframe tbody tr th:only-of-type {\n",
       "        vertical-align: middle;\n",
       "    }\n",
       "\n",
       "    .dataframe tbody tr th {\n",
       "        vertical-align: top;\n",
       "    }\n",
       "\n",
       "    .dataframe thead th {\n",
       "        text-align: right;\n",
       "    }\n",
       "</style>\n",
       "<table border=\"1\" class=\"dataframe\">\n",
       "  <thead>\n",
       "    <tr style=\"text-align: right;\">\n",
       "      <th></th>\n",
       "      <th>age_group</th>\n",
       "      <th>clothing_id</th>\n",
       "    </tr>\n",
       "  </thead>\n",
       "  <tbody>\n",
       "    <tr>\n",
       "      <th>0</th>\n",
       "      <td>18-34</td>\n",
       "      <td>6067</td>\n",
       "    </tr>\n",
       "    <tr>\n",
       "      <th>2</th>\n",
       "      <td>42-52</td>\n",
       "      <td>6002</td>\n",
       "    </tr>\n",
       "    <tr>\n",
       "      <th>1</th>\n",
       "      <td>35-41</td>\n",
       "      <td>5924</td>\n",
       "    </tr>\n",
       "    <tr>\n",
       "      <th>3</th>\n",
       "      <td>53-99</td>\n",
       "      <td>5493</td>\n",
       "    </tr>\n",
       "  </tbody>\n",
       "</table>\n",
       "</div>"
      ],
      "text/plain": [
       "  age_group  clothing_id\n",
       "0     18-34         6067\n",
       "2     42-52         6002\n",
       "1     35-41         5924\n",
       "3     53-99         5493"
      ]
     },
     "execution_count": 86,
     "metadata": {},
     "output_type": "execute_result"
    }
   ],
   "source": [
    "df.groupby('age_group')['clothing_id'].count().reset_index().sort_values(by = 'clothing_id', ascending = False)"
   ]
  },
  {
   "cell_type": "code",
   "execution_count": 95,
   "id": "78d89f07",
   "metadata": {},
   "outputs": [
    {
     "data": {
      "text/html": [
       "<div>\n",
       "<style scoped>\n",
       "    .dataframe tbody tr th:only-of-type {\n",
       "        vertical-align: middle;\n",
       "    }\n",
       "\n",
       "    .dataframe tbody tr th {\n",
       "        vertical-align: top;\n",
       "    }\n",
       "\n",
       "    .dataframe thead th {\n",
       "        text-align: right;\n",
       "    }\n",
       "</style>\n",
       "<table border=\"1\" class=\"dataframe\">\n",
       "  <thead>\n",
       "    <tr style=\"text-align: right;\">\n",
       "      <th></th>\n",
       "      <th>age_group</th>\n",
       "      <th>class_name</th>\n",
       "      <th>clothing_id</th>\n",
       "    </tr>\n",
       "  </thead>\n",
       "  <tbody>\n",
       "    <tr>\n",
       "      <th>2</th>\n",
       "      <td>18-34</td>\n",
       "      <td>Dresses</td>\n",
       "      <td>1797</td>\n",
       "    </tr>\n",
       "    <tr>\n",
       "      <th>22</th>\n",
       "      <td>35-41</td>\n",
       "      <td>Dresses</td>\n",
       "      <td>1668</td>\n",
       "    </tr>\n",
       "    <tr>\n",
       "      <th>41</th>\n",
       "      <td>42-52</td>\n",
       "      <td>Dresses</td>\n",
       "      <td>1570</td>\n",
       "    </tr>\n",
       "    <tr>\n",
       "      <th>60</th>\n",
       "      <td>53-99</td>\n",
       "      <td>Dresses</td>\n",
       "      <td>1284</td>\n",
       "    </tr>\n",
       "    <tr>\n",
       "      <th>46</th>\n",
       "      <td>42-52</td>\n",
       "      <td>Knits</td>\n",
       "      <td>1241</td>\n",
       "    </tr>\n",
       "    <tr>\n",
       "      <th>...</th>\n",
       "      <td>...</td>\n",
       "      <td>...</td>\n",
       "      <td>...</td>\n",
       "    </tr>\n",
       "    <tr>\n",
       "      <th>39</th>\n",
       "      <td>35-41</td>\n",
       "      <td>nan</td>\n",
       "      <td>4</td>\n",
       "    </tr>\n",
       "    <tr>\n",
       "      <th>19</th>\n",
       "      <td>18-34</td>\n",
       "      <td>nan</td>\n",
       "      <td>4</td>\n",
       "    </tr>\n",
       "    <tr>\n",
       "      <th>1</th>\n",
       "      <td>18-34</td>\n",
       "      <td>Casual bottoms</td>\n",
       "      <td>2</td>\n",
       "    </tr>\n",
       "    <tr>\n",
       "      <th>21</th>\n",
       "      <td>35-41</td>\n",
       "      <td>Chemises</td>\n",
       "      <td>1</td>\n",
       "    </tr>\n",
       "    <tr>\n",
       "      <th>77</th>\n",
       "      <td>53-99</td>\n",
       "      <td>nan</td>\n",
       "      <td>1</td>\n",
       "    </tr>\n",
       "  </tbody>\n",
       "</table>\n",
       "<p>78 rows × 3 columns</p>\n",
       "</div>"
      ],
      "text/plain": [
       "   age_group      class_name  clothing_id\n",
       "2      18-34         Dresses         1797\n",
       "22     35-41         Dresses         1668\n",
       "41     42-52         Dresses         1570\n",
       "60     53-99         Dresses         1284\n",
       "46     42-52           Knits         1241\n",
       "..       ...             ...          ...\n",
       "39     35-41             nan            4\n",
       "19     18-34             nan            4\n",
       "1      18-34  Casual bottoms            2\n",
       "21     35-41        Chemises            1\n",
       "77     53-99             nan            1\n",
       "\n",
       "[78 rows x 3 columns]"
      ]
     },
     "execution_count": 95,
     "metadata": {},
     "output_type": "execute_result"
    }
   ],
   "source": [
    "df_gr = df.groupby(['age_group', 'class_name'])['clothing_id'].count().reset_index().sort_values(by = 'clothing_id', ascending = False)\n",
    "df_gr"
   ]
  },
  {
   "cell_type": "markdown",
   "id": "b7209b5b",
   "metadata": {},
   "source": [
    "It seems that people aged 18-34 buy the most, and they prefer dresses."
   ]
  },
  {
   "cell_type": "code",
   "execution_count": 92,
   "id": "21931798",
   "metadata": {},
   "outputs": [
    {
     "data": {
      "text/html": [
       "<div>\n",
       "<style scoped>\n",
       "    .dataframe tbody tr th:only-of-type {\n",
       "        vertical-align: middle;\n",
       "    }\n",
       "\n",
       "    .dataframe tbody tr th {\n",
       "        vertical-align: top;\n",
       "    }\n",
       "\n",
       "    .dataframe thead th {\n",
       "        text-align: right;\n",
       "    }\n",
       "</style>\n",
       "<table border=\"1\" class=\"dataframe\">\n",
       "  <thead>\n",
       "    <tr style=\"text-align: right;\">\n",
       "      <th></th>\n",
       "      <th>age_group</th>\n",
       "      <th>class_name</th>\n",
       "      <th>clothing_id</th>\n",
       "    </tr>\n",
       "  </thead>\n",
       "  <tbody>\n",
       "    <tr>\n",
       "      <th>0</th>\n",
       "      <td>18-34</td>\n",
       "      <td>20</td>\n",
       "      <td>732</td>\n",
       "    </tr>\n",
       "    <tr>\n",
       "      <th>1</th>\n",
       "      <td>35-41</td>\n",
       "      <td>20</td>\n",
       "      <td>656</td>\n",
       "    </tr>\n",
       "    <tr>\n",
       "      <th>2</th>\n",
       "      <td>42-52</td>\n",
       "      <td>19</td>\n",
       "      <td>614</td>\n",
       "    </tr>\n",
       "    <tr>\n",
       "      <th>3</th>\n",
       "      <td>53-99</td>\n",
       "      <td>19</td>\n",
       "      <td>581</td>\n",
       "    </tr>\n",
       "  </tbody>\n",
       "</table>\n",
       "</div>"
      ],
      "text/plain": [
       "  age_group  class_name  clothing_id\n",
       "0     18-34          20          732\n",
       "1     35-41          20          656\n",
       "2     42-52          19          614\n",
       "3     53-99          19          581"
      ]
     },
     "execution_count": 92,
     "metadata": {},
     "output_type": "execute_result"
    }
   ],
   "source": [
    "df.groupby(by='age_group', as_index=False).agg({'class_name': pd.Series.nunique, 'clothing_id': pd.Series.nunique })"
   ]
  },
  {
   "cell_type": "markdown",
   "id": "fc2c3064",
   "metadata": {},
   "source": [
    "And despite the fact that most buyers are in the age groups of 34-41 and 42-52, the first group of 18-34 overtakes them in terms of the number of purchases."
   ]
  },
  {
   "cell_type": "markdown",
   "id": "ab1fc08c",
   "metadata": {},
   "source": [
    "The difference in purchases of different classes between buyers of different age groups can be displayed visually. Let's build a heatmap."
   ]
  },
  {
   "cell_type": "markdown",
   "id": "acf20423",
   "metadata": {},
   "source": [
    "First, let's build a distribution table."
   ]
  },
  {
   "cell_type": "code",
   "execution_count": 107,
   "id": "20ab4b5e",
   "metadata": {},
   "outputs": [
    {
     "data": {
      "text/html": [
       "<div>\n",
       "<style scoped>\n",
       "    .dataframe tbody tr th:only-of-type {\n",
       "        vertical-align: middle;\n",
       "    }\n",
       "\n",
       "    .dataframe tbody tr th {\n",
       "        vertical-align: top;\n",
       "    }\n",
       "\n",
       "    .dataframe thead th {\n",
       "        text-align: right;\n",
       "    }\n",
       "</style>\n",
       "<table border=\"1\" class=\"dataframe\">\n",
       "  <thead>\n",
       "    <tr style=\"text-align: right;\">\n",
       "      <th>age_group</th>\n",
       "      <th>18-34</th>\n",
       "      <th>35-41</th>\n",
       "      <th>42-52</th>\n",
       "      <th>53-99</th>\n",
       "    </tr>\n",
       "    <tr>\n",
       "      <th>class_name</th>\n",
       "      <th></th>\n",
       "      <th></th>\n",
       "      <th></th>\n",
       "      <th></th>\n",
       "    </tr>\n",
       "  </thead>\n",
       "  <tbody>\n",
       "    <tr>\n",
       "      <th>Blouses</th>\n",
       "      <td>719.0</td>\n",
       "      <td>718.0</td>\n",
       "      <td>842.0</td>\n",
       "      <td>818.0</td>\n",
       "    </tr>\n",
       "    <tr>\n",
       "      <th>Casual bottoms</th>\n",
       "      <td>2.0</td>\n",
       "      <td>0.0</td>\n",
       "      <td>0.0</td>\n",
       "      <td>0.0</td>\n",
       "    </tr>\n",
       "    <tr>\n",
       "      <th>Chemises</th>\n",
       "      <td>0.0</td>\n",
       "      <td>1.0</td>\n",
       "      <td>0.0</td>\n",
       "      <td>0.0</td>\n",
       "    </tr>\n",
       "    <tr>\n",
       "      <th>Dresses</th>\n",
       "      <td>1797.0</td>\n",
       "      <td>1668.0</td>\n",
       "      <td>1570.0</td>\n",
       "      <td>1284.0</td>\n",
       "    </tr>\n",
       "    <tr>\n",
       "      <th>Fine gauge</th>\n",
       "      <td>220.0</td>\n",
       "      <td>271.0</td>\n",
       "      <td>313.0</td>\n",
       "      <td>296.0</td>\n",
       "    </tr>\n",
       "  </tbody>\n",
       "</table>\n",
       "</div>"
      ],
      "text/plain": [
       "age_group        18-34   35-41   42-52   53-99\n",
       "class_name                                    \n",
       "Blouses          719.0   718.0   842.0   818.0\n",
       "Casual bottoms     2.0     0.0     0.0     0.0\n",
       "Chemises           0.0     1.0     0.0     0.0\n",
       "Dresses         1797.0  1668.0  1570.0  1284.0\n",
       "Fine gauge       220.0   271.0   313.0   296.0"
      ]
     },
     "execution_count": 107,
     "metadata": {},
     "output_type": "execute_result"
    }
   ],
   "source": [
    "df_gr_pivot = df_gr.pivot(index='class_name', columns='age_group', values='clothing_id').fillna(0)\n",
    "df_gr_pivot.head()"
   ]
  },
  {
   "cell_type": "markdown",
   "id": "889bc91d",
   "metadata": {},
   "source": [
    "Now heatmap."
   ]
  },
  {
   "cell_type": "code",
   "execution_count": 111,
   "id": "ccc37897",
   "metadata": {},
   "outputs": [
    {
     "data": {
      "image/png": "[encoded data removed]",
      "text/plain": [
       "<Figure size 360x1080 with 2 Axes>"
      ]
     },
     "metadata": {
      "needs_background": "light"
     },
     "output_type": "display_data"
    }
   ],
   "source": [
    "plt.figure(figsize=(5,15))\n",
    "htmp = sns.heatmap(df_gr_pivot, \n",
    "            annot=True,\n",
    "            cmap=\"YlGnBu\",\n",
    "            fmt='g',\n",
    "            annot_kws={'size':12})             \n",
    "plt.title(\"Distribution of purchases by classes and age_group\")            \n",
    "htmp.xaxis.set_ticks_position('top')\n",
    "plt.show()"
   ]
  },
  {
   "cell_type": "markdown",
   "id": "c7c8404d",
   "metadata": {},
   "source": [
    "Now it is easy to see that most of the purchases are for Dresses, they are bought mainly by the age group 18-34. People over 42 prefer to buy Blouses, and Knits are bought by the 42-52 group a little more than the rest."
   ]
  },
  {
   "cell_type": "markdown",
   "id": "c668193b",
   "metadata": {},
   "source": [
    "Let's now make the same graph for classes by rating."
   ]
  },
  {
   "cell_type": "markdown",
   "id": "1ae61359",
   "metadata": {},
   "source": [
    "Distriution at first."
   ]
  },
  {
   "cell_type": "code",
   "execution_count": 128,
   "id": "cae22f99",
   "metadata": {},
   "outputs": [
    {
     "data": {
      "text/html": [
       "<div>\n",
       "<style scoped>\n",
       "    .dataframe tbody tr th:only-of-type {\n",
       "        vertical-align: middle;\n",
       "    }\n",
       "\n",
       "    .dataframe tbody tr th {\n",
       "        vertical-align: top;\n",
       "    }\n",
       "\n",
       "    .dataframe thead th {\n",
       "        text-align: right;\n",
       "    }\n",
       "</style>\n",
       "<table border=\"1\" class=\"dataframe\">\n",
       "  <thead>\n",
       "    <tr style=\"text-align: right;\">\n",
       "      <th></th>\n",
       "      <th>rating</th>\n",
       "      <th>class_name</th>\n",
       "      <th>clothing_id</th>\n",
       "    </tr>\n",
       "  </thead>\n",
       "  <tbody>\n",
       "    <tr>\n",
       "      <th>76</th>\n",
       "      <td>5</td>\n",
       "      <td>Dresses</td>\n",
       "      <td>3397</td>\n",
       "    </tr>\n",
       "    <tr>\n",
       "      <th>81</th>\n",
       "      <td>5</td>\n",
       "      <td>Knits</td>\n",
       "      <td>2589</td>\n",
       "    </tr>\n",
       "    <tr>\n",
       "      <th>74</th>\n",
       "      <td>5</td>\n",
       "      <td>Blouses</td>\n",
       "      <td>1686</td>\n",
       "    </tr>\n",
       "    <tr>\n",
       "      <th>57</th>\n",
       "      <td>4</td>\n",
       "      <td>Dresses</td>\n",
       "      <td>1395</td>\n",
       "    </tr>\n",
       "    <tr>\n",
       "      <th>62</th>\n",
       "      <td>4</td>\n",
       "      <td>Knits</td>\n",
       "      <td>1132</td>\n",
       "    </tr>\n",
       "  </tbody>\n",
       "</table>\n",
       "</div>"
      ],
      "text/plain": [
       "    rating class_name  clothing_id\n",
       "76       5    Dresses         3397\n",
       "81       5      Knits         2589\n",
       "74       5    Blouses         1686\n",
       "57       4    Dresses         1395\n",
       "62       4      Knits         1132"
      ]
     },
     "execution_count": 128,
     "metadata": {},
     "output_type": "execute_result"
    }
   ],
   "source": [
    "df_rat = df.groupby(['rating', 'class_name'])['clothing_id'].count().reset_index().sort_values(by = 'clothing_id', ascending = False)\n",
    "df_rat.head()"
   ]
  },
  {
   "cell_type": "markdown",
   "id": "beea5e5f",
   "metadata": {},
   "source": [
    "######### Then the pivot table."
   ]
  },
  {
   "cell_type": "code",
   "execution_count": 129,
   "id": "1ab0283e",
   "metadata": {},
   "outputs": [
    {
     "data": {
      "text/html": [
       "<div>\n",
       "<style scoped>\n",
       "    .dataframe tbody tr th:only-of-type {\n",
       "        vertical-align: middle;\n",
       "    }\n",
       "\n",
       "    .dataframe tbody tr th {\n",
       "        vertical-align: top;\n",
       "    }\n",
       "\n",
       "    .dataframe thead th {\n",
       "        text-align: right;\n",
       "    }\n",
       "</style>\n",
       "<table border=\"1\" class=\"dataframe\">\n",
       "  <thead>\n",
       "    <tr style=\"text-align: right;\">\n",
       "      <th>rating</th>\n",
       "      <th>1</th>\n",
       "      <th>2</th>\n",
       "      <th>3</th>\n",
       "      <th>4</th>\n",
       "      <th>5</th>\n",
       "    </tr>\n",
       "    <tr>\n",
       "      <th>class_name</th>\n",
       "      <th></th>\n",
       "      <th></th>\n",
       "      <th></th>\n",
       "      <th></th>\n",
       "      <th></th>\n",
       "    </tr>\n",
       "  </thead>\n",
       "  <tbody>\n",
       "    <tr>\n",
       "      <th>Blouses</th>\n",
       "      <td>119.0</td>\n",
       "      <td>229.0</td>\n",
       "      <td>394.0</td>\n",
       "      <td>669.0</td>\n",
       "      <td>1686.0</td>\n",
       "    </tr>\n",
       "    <tr>\n",
       "      <th>Casual bottoms</th>\n",
       "      <td>0.0</td>\n",
       "      <td>0.0</td>\n",
       "      <td>0.0</td>\n",
       "      <td>1.0</td>\n",
       "      <td>1.0</td>\n",
       "    </tr>\n",
       "    <tr>\n",
       "      <th>Chemises</th>\n",
       "      <td>0.0</td>\n",
       "      <td>0.0</td>\n",
       "      <td>0.0</td>\n",
       "      <td>1.0</td>\n",
       "      <td>0.0</td>\n",
       "    </tr>\n",
       "    <tr>\n",
       "      <th>Dresses</th>\n",
       "      <td>228.0</td>\n",
       "      <td>461.0</td>\n",
       "      <td>838.0</td>\n",
       "      <td>1395.0</td>\n",
       "      <td>3397.0</td>\n",
       "    </tr>\n",
       "    <tr>\n",
       "      <th>Fine gauge</th>\n",
       "      <td>30.0</td>\n",
       "      <td>75.0</td>\n",
       "      <td>119.0</td>\n",
       "      <td>230.0</td>\n",
       "      <td>646.0</td>\n",
       "    </tr>\n",
       "  </tbody>\n",
       "</table>\n",
       "</div>"
      ],
      "text/plain": [
       "rating              1      2      3       4       5\n",
       "class_name                                         \n",
       "Blouses         119.0  229.0  394.0   669.0  1686.0\n",
       "Casual bottoms    0.0    0.0    0.0     1.0     1.0\n",
       "Chemises          0.0    0.0    0.0     1.0     0.0\n",
       "Dresses         228.0  461.0  838.0  1395.0  3397.0\n",
       "Fine gauge       30.0   75.0  119.0   230.0   646.0"
      ]
     },
     "execution_count": 129,
     "metadata": {},
     "output_type": "execute_result"
    }
   ],
   "source": [
    "df_rat_pivot = df_rat.pivot(index='class_name', columns='rating', values='clothing_id').fillna(0)\n",
    "df_rat_pivot.head()"
   ]
  },
  {
   "cell_type": "markdown",
   "id": "82eb8d8e",
   "metadata": {},
   "source": [
    "And heatmap."
   ]
  },
  {
   "cell_type": "code",
   "execution_count": 130,
   "id": "db23314c",
   "metadata": {},
   "outputs": [
    {
     "data": {
      "image/png": "[encoded data removed]",
      "text/plain": [
       "<Figure size 360x1080 with 2 Axes>"
      ]
     },
     "metadata": {
      "needs_background": "light"
     },
     "output_type": "display_data"
    }
   ],
   "source": [
    "plt.figure(figsize=(5,15))\n",
    "htmp1 = sns.heatmap(df_rat_pivot, \n",
    "            annot=True,\n",
    "            cmap=\"YlGnBu\",\n",
    "            fmt='g',\n",
    "            annot_kws={'size':12})             \n",
    "plt.title(\"Distribution of purchases and ratings by classes\")            \n",
    "htmp1.xaxis.set_ticks_position('top')\n",
    "plt.show()"
   ]
  },
  {
   "cell_type": "markdown",
   "id": "fb11152e",
   "metadata": {},
   "source": [
    "Now we know where the best dresses, blouses and Knits are :-D"
   ]
  },
  {
   "cell_type": "markdown",
   "id": "e84e3e71",
   "metadata": {},
   "source": [
    "## This concludes my analysis of clothing sales from Amazon. Thank you for reading this! I hope you were interested! "
   ]
  }
 ],
 "metadata": {
  "kernelspec": {
   "display_name": "Python 3 (ipykernel)",
   "language": "python",
   "name": "python3"
  },
  "language_info": {
   "codemirror_mode": {
    "name": "ipython",
    "version": 3
   },
   "file_extension": ".py",
   "mimetype": "text/x-python",
   "name": "python",
   "nbconvert_exporter": "python",
   "pygments_lexer": "ipython3",
   "version": "3.9.12"
  }
 },
 "nbformat": 4,
 "nbformat_minor": 5
}
